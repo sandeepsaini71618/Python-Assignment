{
 "cells": [
  {
   "cell_type": "code",
   "execution_count": 1,
   "id": "5e1a0e74-d2a2-4082-8c0d-e84b75ce0433",
   "metadata": {},
   "outputs": [],
   "source": [
    "d={}"
   ]
  },
  {
   "cell_type": "code",
   "execution_count": 2,
   "id": "5036e2b5-824e-4245-8d9b-bcca2b7b1dc2",
   "metadata": {},
   "outputs": [
    {
     "data": {
      "text/plain": [
       "dict"
      ]
     },
     "execution_count": 2,
     "metadata": {},
     "output_type": "execute_result"
    }
   ],
   "source": [
    "type(d)"
   ]
  },
  {
   "cell_type": "code",
   "execution_count": 4,
   "id": "e5dd94c3-169c-4085-a967-ba854b43cf9d",
   "metadata": {},
   "outputs": [],
   "source": [
    "d1={\"sand\":\"mitti\"}"
   ]
  },
  {
   "cell_type": "code",
   "execution_count": 5,
   "id": "f78452eb-7cec-4a20-9e91-919ba09661a9",
   "metadata": {},
   "outputs": [
    {
     "data": {
      "text/plain": [
       "{'sand': 'mitti'}"
      ]
     },
     "execution_count": 5,
     "metadata": {},
     "output_type": "execute_result"
    }
   ],
   "source": [
    "d1"
   ]
  },
  {
   "cell_type": "code",
   "execution_count": 6,
   "id": "fa16e575-6705-4b40-994e-f8522251c8e8",
   "metadata": {},
   "outputs": [],
   "source": [
    "s={\"name\":\"sandeep\",\"number\":9887424951}"
   ]
  },
  {
   "cell_type": "code",
   "execution_count": 7,
   "id": "98b8ba74-b336-4c19-b5b7-a3634816429b",
   "metadata": {},
   "outputs": [
    {
     "data": {
      "text/plain": [
       "{'name': 'sandeep', 'number': 9887424951}"
      ]
     },
     "execution_count": 7,
     "metadata": {},
     "output_type": "execute_result"
    }
   ],
   "source": [
    "s"
   ]
  },
  {
   "cell_type": "code",
   "execution_count": 14,
   "id": "3df7ff22-00c5-4418-baae-c1d0e713be71",
   "metadata": {},
   "outputs": [],
   "source": [
    "d1={\"2546\":True, True:\"hello\"}"
   ]
  },
  {
   "cell_type": "code",
   "execution_count": 21,
   "id": "dc11a69a-57aa-4129-ab75-d193902a47a6",
   "metadata": {},
   "outputs": [
    {
     "data": {
      "text/plain": [
       "'hello'"
      ]
     },
     "execution_count": 21,
     "metadata": {},
     "output_type": "execute_result"
    }
   ],
   "source": [
    "d1[True]"
   ]
  },
  {
   "cell_type": "code",
   "execution_count": 22,
   "id": "ceaad0aa-8b22-4ec7-8b37-afe1bfbc5303",
   "metadata": {},
   "outputs": [
    {
     "data": {
      "text/plain": [
       "'hello'"
      ]
     },
     "execution_count": 22,
     "metadata": {},
     "output_type": "execute_result"
    }
   ],
   "source": [
    "d1[1]"
   ]
  },
  {
   "cell_type": "code",
   "execution_count": 23,
   "id": "71f65fe6-c483-4d4e-8ad0-5d816fc53d59",
   "metadata": {},
   "outputs": [
    {
     "data": {
      "text/plain": [
       "{'name': 'sandeep', 'number': 9887424951}"
      ]
     },
     "execution_count": 23,
     "metadata": {},
     "output_type": "execute_result"
    }
   ],
   "source": [
    "s"
   ]
  },
  {
   "cell_type": "code",
   "execution_count": 25,
   "id": "9d93e624-6f6f-4cac-b108-7b7a50510905",
   "metadata": {},
   "outputs": [],
   "source": [
    "s={\"name\":\"sandeep\",\"number\":9887424951,\"name\":\"pooja\"}"
   ]
  },
  {
   "cell_type": "code",
   "execution_count": 26,
   "id": "3316af3e-0537-4ef8-a15a-38b3863f8c5e",
   "metadata": {},
   "outputs": [
    {
     "data": {
      "text/plain": [
       "'pooja'"
      ]
     },
     "execution_count": 26,
     "metadata": {},
     "output_type": "execute_result"
    }
   ],
   "source": [
    "s['name']"
   ]
  },
  {
   "cell_type": "code",
   "execution_count": 28,
   "id": "db9e4134-5e4a-455a-8040-8898605fc321",
   "metadata": {},
   "outputs": [],
   "source": [
    "d5={\"company\":\"pwskill\", \"course\":[\"webdata\",\"development\"]}"
   ]
  },
  {
   "cell_type": "code",
   "execution_count": 30,
   "id": "c433e086-e1e7-49a8-b783-6397995e19c6",
   "metadata": {},
   "outputs": [
    {
     "data": {
      "text/plain": [
       "'development'"
      ]
     },
     "execution_count": 30,
     "metadata": {},
     "output_type": "execute_result"
    }
   ],
   "source": [
    "d5['course'][1]"
   ]
  },
  {
   "cell_type": "code",
   "execution_count": 32,
   "id": "681b870b-88df-47bb-9877-57e83ac10f5d",
   "metadata": {},
   "outputs": [],
   "source": [
    "d6={\"num\":[1,2,3,6,45,50],\"tup\":(1,58,589,58,63),\"date\":{258,69,3,6}, \"clss time\": {\"math\":8,\"java\":9}}"
   ]
  },
  {
   "cell_type": "code",
   "execution_count": 33,
   "id": "d6cdb890-6764-4f98-84fe-73855d1d5e73",
   "metadata": {},
   "outputs": [
    {
     "data": {
      "text/plain": [
       "{'num': [1, 2, 3, 6, 45, 50],\n",
       " 'tup': (1, 58, 589, 58, 63),\n",
       " 'date': {3, 6, 69, 258},\n",
       " 'clss time': {'math': 8, 'java': 9}}"
      ]
     },
     "execution_count": 33,
     "metadata": {},
     "output_type": "execute_result"
    }
   ],
   "source": [
    "d6"
   ]
  },
  {
   "cell_type": "code",
   "execution_count": 34,
   "id": "79aee138-11af-4693-a198-4f57baa0fc6e",
   "metadata": {},
   "outputs": [
    {
     "data": {
      "text/plain": [
       "dict_keys(['num', 'tup', 'date', 'clss time'])"
      ]
     },
     "execution_count": 34,
     "metadata": {},
     "output_type": "execute_result"
    }
   ],
   "source": [
    "d6.keys()"
   ]
  },
  {
   "cell_type": "code",
   "execution_count": 35,
   "id": "74be987d-2546-4f4e-bb7b-9d545b51f633",
   "metadata": {},
   "outputs": [
    {
     "data": {
      "text/plain": [
       "dict_values([[1, 2, 3, 6, 45, 50], (1, 58, 589, 58, 63), {258, 3, 69, 6}, {'math': 8, 'java': 9}])"
      ]
     },
     "execution_count": 35,
     "metadata": {},
     "output_type": "execute_result"
    }
   ],
   "source": [
    "d6.values()"
   ]
  },
  {
   "cell_type": "code",
   "execution_count": 36,
   "id": "176af338-7d40-4c8d-9388-ae1e97f1aba7",
   "metadata": {},
   "outputs": [
    {
     "data": {
      "text/plain": [
       "9"
      ]
     },
     "execution_count": 36,
     "metadata": {},
     "output_type": "execute_result"
    }
   ],
   "source": [
    "d6[\"clss time\"][\"java\"]"
   ]
  },
  {
   "cell_type": "code",
   "execution_count": 39,
   "id": "c1ce96b5-8389-4b48-ae8d-0b7818abc392",
   "metadata": {},
   "outputs": [],
   "source": [
    "d6[\"sand\"]=[\"ram\",\"shyam\"]"
   ]
  },
  {
   "cell_type": "code",
   "execution_count": 40,
   "id": "d4a6de46-846b-4914-a116-4457a394f76f",
   "metadata": {},
   "outputs": [
    {
     "data": {
      "text/plain": [
       "{'num': [1, 2, 3, 6, 45, 50],\n",
       " 'tup': (1, 58, 589, 58, 63),\n",
       " 'date': {3, 6, 69, 258},\n",
       " 'clss time': {'math': 8, 'java': 9},\n",
       " 'sand': ['ram', 'shyam']}"
      ]
     },
     "execution_count": 40,
     "metadata": {},
     "output_type": "execute_result"
    }
   ],
   "source": [
    "d6"
   ]
  },
  {
   "cell_type": "code",
   "execution_count": 41,
   "id": "106ceafb-5139-4405-aecd-34de0ea69f7d",
   "metadata": {},
   "outputs": [],
   "source": [
    "del d6[\"sand\"]"
   ]
  },
  {
   "cell_type": "code",
   "execution_count": 42,
   "id": "c333fa12-a98e-4c53-bd31-4ea8637e3cae",
   "metadata": {},
   "outputs": [
    {
     "data": {
      "text/plain": [
       "{'num': [1, 2, 3, 6, 45, 50],\n",
       " 'tup': (1, 58, 589, 58, 63),\n",
       " 'date': {3, 6, 69, 258},\n",
       " 'clss time': {'math': 8, 'java': 9}}"
      ]
     },
     "execution_count": 42,
     "metadata": {},
     "output_type": "execute_result"
    }
   ],
   "source": [
    "d6"
   ]
  },
  {
   "cell_type": "code",
   "execution_count": 43,
   "id": "20b1fd37-d5b2-4950-9305-54405d3ac1b3",
   "metadata": {},
   "outputs": [
    {
     "data": {
      "text/plain": [
       "dict_items([('num', [1, 2, 3, 6, 45, 50]), ('tup', (1, 58, 589, 58, 63)), ('date', {258, 3, 69, 6}), ('clss time', {'math': 8, 'java': 9})])"
      ]
     },
     "execution_count": 43,
     "metadata": {},
     "output_type": "execute_result"
    }
   ],
   "source": [
    "d6.items()"
   ]
  },
  {
   "cell_type": "code",
   "execution_count": 46,
   "id": "866cf0ca-b614-49ef-b71b-88c54d1e4966",
   "metadata": {},
   "outputs": [
    {
     "data": {
      "text/plain": [
       "['num', 'tup', 'date', 'clss time']"
      ]
     },
     "execution_count": 46,
     "metadata": {},
     "output_type": "execute_result"
    }
   ],
   "source": [
    "list(d6.keys())"
   ]
  },
  {
   "cell_type": "code",
   "execution_count": 53,
   "id": "567f67b2-98e2-4568-8289-a6ae5bead3c4",
   "metadata": {},
   "outputs": [
    {
     "data": {
      "text/plain": [
       "[('tup', (1, 58, 589, 58, 63)),\n",
       " ('date', {3, 6, 69, 258}),\n",
       " ('clss time', {'math': 8, 'java': 9})]"
      ]
     },
     "execution_count": 53,
     "metadata": {},
     "output_type": "execute_result"
    }
   ],
   "source": [
    "list(d6.items())"
   ]
  },
  {
   "cell_type": "code",
   "execution_count": 56,
   "id": "ccf4f471-b2bc-4ac7-bd1d-cf2d48aa1078",
   "metadata": {},
   "outputs": [
    {
     "ename": "TypeError",
     "evalue": "pop expected at least 1 argument, got 0",
     "output_type": "error",
     "traceback": [
      "\u001b[0;31m---------------------------------------------------------------------------\u001b[0m",
      "\u001b[0;31mTypeError\u001b[0m                                 Traceback (most recent call last)",
      "Cell \u001b[0;32mIn[56], line 1\u001b[0m\n\u001b[0;32m----> 1\u001b[0m \u001b[43md6\u001b[49m\u001b[38;5;241;43m.\u001b[39;49m\u001b[43mpop\u001b[49m\u001b[43m(\u001b[49m\u001b[43m)\u001b[49m\n",
      "\u001b[0;31mTypeError\u001b[0m: pop expected at least 1 argument, got 0"
     ]
    }
   ],
   "source": [
    "d6.pop()"
   ]
  },
  {
   "cell_type": "code",
   "execution_count": 58,
   "id": "a9443109-c4e3-4b9d-963b-18b61ec669ab",
   "metadata": {},
   "outputs": [
    {
     "data": {
      "text/plain": [
       "{'tup': (1, 58, 589, 58, 63),\n",
       " 'date': {3, 6, 69, 258},\n",
       " 'clss time': {'math': 8, 'java': 9}}"
      ]
     },
     "execution_count": 58,
     "metadata": {},
     "output_type": "execute_result"
    }
   ],
   "source": [
    "d6"
   ]
  },
  {
   "cell_type": "code",
   "execution_count": 61,
   "id": "2802423a-8a31-4c1e-80a1-20b42059d032",
   "metadata": {},
   "outputs": [
    {
     "name": "stdin",
     "output_type": "stream",
     "text": [
      "enter your mark 50\n"
     ]
    },
    {
     "name": "stdout",
     "output_type": "stream",
     "text": [
      "you are part of A3\n"
     ]
    }
   ],
   "source": [
    "marks= int(input(\"enter your mark\"))\n",
    "\n",
    "if marks>=80:\n",
    "    print(\"you are part of A1\")\n",
    "\n",
    "elif marks>=60 and marks<80:\n",
    "    print(\"you are part of A2\")\n",
    "\n",
    "else:\n",
    "    print(\"you are part of A3\")\n"
   ]
  },
  {
   "cell_type": "code",
   "execution_count": 67,
   "id": "71c517f9-135f-4dc5-802e-6741def3ea99",
   "metadata": {},
   "outputs": [],
   "source": [
    "l=[1,2,3,4,5,6,7]"
   ]
  },
  {
   "cell_type": "code",
   "execution_count": 79,
   "id": "3cdbf6ec-d2da-4bd1-9d7e-c2fa42534526",
   "metadata": {},
   "outputs": [
    {
     "name": "stdout",
     "output_type": "stream",
     "text": [
      "2\n",
      "3\n",
      "4\n",
      "5\n",
      "6\n",
      "7\n",
      "8\n"
     ]
    },
    {
     "data": {
      "text/plain": [
       "[2, 3, 4, 5, 6, 7, 8]"
      ]
     },
     "execution_count": 79,
     "metadata": {},
     "output_type": "execute_result"
    }
   ],
   "source": [
    "l1=[]\n",
    "for item in l:\n",
    "    print(item+1)\n",
    "    l1.append(item+1)\n",
    "    \n",
    "l1"
   ]
  },
  {
   "cell_type": "code",
   "execution_count": 80,
   "id": "59c5b9bd-c91a-4f39-9675-0d44125bb007",
   "metadata": {},
   "outputs": [],
   "source": [
    "l=[\"san\",\"poo\",\"pita\"]"
   ]
  },
  {
   "cell_type": "code",
   "execution_count": 81,
   "id": "677d52ad-57c2-4421-8583-e10d2df483d0",
   "metadata": {},
   "outputs": [
    {
     "name": "stdout",
     "output_type": "stream",
     "text": [
      "SAN\n",
      "POO\n",
      "PITA\n"
     ]
    },
    {
     "data": {
      "text/plain": [
       "['SAN', 'POO', 'PITA']"
      ]
     },
     "execution_count": 81,
     "metadata": {},
     "output_type": "execute_result"
    }
   ],
   "source": [
    "l2=[]\n",
    "for i in l:\n",
    "    print(i.upper())\n",
    "    l2.append(i.upper())\n",
    "l2"
   ]
  },
  {
   "cell_type": "code",
   "execution_count": 82,
   "id": "52d1ed36-0354-48c8-b82f-b2f3a834548f",
   "metadata": {},
   "outputs": [],
   "source": [
    "l=[1,5,3,6,\"san\",\"shyam\"]"
   ]
  },
  {
   "cell_type": "code",
   "execution_count": 89,
   "id": "20a55be7-4ac2-4320-b3a2-7b532a6cd347",
   "metadata": {},
   "outputs": [],
   "source": [
    "l1=[]\n",
    "l2=[]\n",
    "\n",
    "for i in l:\n",
    "    if type(i) is str:\n",
    "        True\n",
    "        l1.append(i)\n",
    "    else:\n",
    "        l2.append(i)"
   ]
  },
  {
   "cell_type": "code",
   "execution_count": 90,
   "id": "23c4a678-95c7-42eb-866a-d0cfce9beb57",
   "metadata": {},
   "outputs": [
    {
     "data": {
      "text/plain": [
       "['san', 'shyam']"
      ]
     },
     "execution_count": 90,
     "metadata": {},
     "output_type": "execute_result"
    }
   ],
   "source": [
    "l1"
   ]
  },
  {
   "cell_type": "code",
   "execution_count": 91,
   "id": "4508c315-d4bd-46f5-81da-7fea6ffaaef1",
   "metadata": {},
   "outputs": [
    {
     "data": {
      "text/plain": [
       "[1, 5, 3, 6]"
      ]
     },
     "execution_count": 91,
     "metadata": {},
     "output_type": "execute_result"
    }
   ],
   "source": [
    "l2"
   ]
  },
  {
   "cell_type": "code",
   "execution_count": null,
   "id": "9df19a31-6a56-4625-9492-00d348e480fd",
   "metadata": {},
   "outputs": [],
   "source": []
  }
 ],
 "metadata": {
  "kernelspec": {
   "display_name": "Python 3 (ipykernel)",
   "language": "python",
   "name": "python3"
  },
  "language_info": {
   "codemirror_mode": {
    "name": "ipython",
    "version": 3
   },
   "file_extension": ".py",
   "mimetype": "text/x-python",
   "name": "python",
   "nbconvert_exporter": "python",
   "pygments_lexer": "ipython3",
   "version": "3.10.8"
  }
 },
 "nbformat": 4,
 "nbformat_minor": 5
}
